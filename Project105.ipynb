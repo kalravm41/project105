{
  "nbformat": 4,
  "nbformat_minor": 0,
  "metadata": {
    "colab": {
      "name": "Project105",
      "provenance": [],
      "authorship_tag": "ABX9TyMQwqavpOeV43FfaXcieub+",
      "include_colab_link": true
    },
    "kernelspec": {
      "name": "python3",
      "display_name": "Python 3"
    }
  },
  "cells": [
    {
      "cell_type": "markdown",
      "metadata": {
        "id": "view-in-github",
        "colab_type": "text"
      },
      "source": [
        "<a href=\"https://colab.research.google.com/github/kalravm41/project105/blob/main/Project105.ipynb\" target=\"_parent\"><img src=\"https://colab.research.google.com/assets/colab-badge.svg\" alt=\"Open In Colab\"/></a>"
      ]
    },
    {
      "cell_type": "code",
      "metadata": {
        "colab": {
          "base_uri": "https://localhost:8080/"
        },
        "id": "fHVpQOtZaNrA",
        "outputId": "4dda882f-9fe7-4ecd-e0c2-194f790d5797"
      },
      "source": [
        "import csv\n",
        "import math\n",
        "\n",
        "with open('data.csv') as f:\n",
        "  reader = csv.reader(f)\n",
        "  file_Data = list(reader)\n",
        "  # k = file_Data.sort()\n",
        "  # print(reader)\n",
        "  # print(file_Data)\n",
        "\n",
        "def mean():\n",
        "  n = len(file_Data[0])\n",
        "  total = 0\n",
        "  for x in file_Data[0]:\n",
        "    total += int(x)\n",
        "    mean = total/n\n",
        "    return mean\n",
        "\n",
        "squaredList = []\n",
        "\n",
        "for no in file_Data[0]:\n",
        "  a = int(no) - mean()\n",
        "  b = a**2\n",
        "  squaredList.append(b)\n",
        "\n",
        "sum = 0\n",
        "\n",
        "for i in squaredList:\n",
        "  sum += i\n",
        "\n",
        "result = sum/(len(file_Data[0])-1)\n",
        "\n",
        "SD = math.sqrt(result)\n",
        "\n",
        "print(SD)\n"
      ],
      "execution_count": null,
      "outputs": [
        {
          "output_type": "stream",
          "text": [
            "81.7081527280003\n"
          ],
          "name": "stdout"
        }
      ]
    }
  ]
}